{
 "cells": [
  {
   "cell_type": "markdown",
   "id": "35eb1c45-9c6b-4de7-8a4e-757592fb91e9",
   "metadata": {},
   "source": [
    "# **Instructions de base**"
   ]
  },
  {
   "cell_type": "markdown",
   "id": "8798b68f-98a9-4c06-aa8a-529d933341f4",
   "metadata": {},
   "source": [
    "---"
   ]
  },
  {
   "cell_type": "markdown",
   "id": "af2fced7-e20c-4195-95ac-42d3864af858",
   "metadata": {},
   "source": [
    "## *Exercice 1*"
   ]
  },
  {
   "cell_type": "code",
   "execution_count": 3,
   "id": "72965104-ae4b-4b41-9ea4-4af568c7d2f4",
   "metadata": {
    "scrolled": true
   },
   "outputs": [
    {
     "name": "stdout",
     "output_type": "stream",
     "text": [
      "Bonjour youssef ,tu as 22 ans et bienvenue à l'université\n"
     ]
    }
   ],
   "source": [
    "nom = input(\"ton nom est :\")\n",
    "age = input(\"ton age est :\")\n",
    "print(f\"Bonjour {nom} ,tu as {age} ans et bienvenue à l'université\")"
   ]
  },
  {
   "cell_type": "markdown",
   "id": "d1be1ebc-a51a-4ba8-87c9-15a5eb78f87c",
   "metadata": {},
   "source": [
    "## *Exercice 2*"
   ]
  },
  {
   "cell_type": "code",
   "execution_count": 2,
   "id": "fbabdd30-494c-4eff-94a6-7402c4948a75",
   "metadata": {},
   "outputs": [
    {
     "name": "stdout",
     "output_type": "stream",
     "text": [
      "Age est : 22\n"
     ]
    }
   ],
   "source": [
    "from datetime import datetime\n",
    "anne = int(input(\"donne moi votre annee naissance :\"))\n",
    "age = datetime.now().year - anne\n",
    "print(f\"Age est : {age}\")"
   ]
  },
  {
   "cell_type": "markdown",
   "id": "1e8eb726",
   "metadata": {},
   "source": [
    "## *Exercice 3*"
   ]
  },
  {
   "cell_type": "code",
   "execution_count": 8,
   "id": "c5d0ef5c",
   "metadata": {},
   "outputs": [
    {
     "name": "stdout",
     "output_type": "stream",
     "text": [
      "périmètre est : 74.60 et surface est : 133.20\n"
     ]
    }
   ],
   "source": [
    "longueur = float(input(\"entrer longueur :\"))\n",
    "largeur = float(input(\"entrer largeur :\"))\n",
    "per = (largeur + longueur)*2\n",
    "sur = largeur * longueur\n",
    "print(f\"périmètre est : {per:.2f} et surface est : {sur:.2f}\")"
   ]
  },
  {
   "cell_type": "markdown",
   "id": "2d1e8d2a",
   "metadata": {},
   "source": [
    "## *Exercice 4*"
   ]
  },
  {
   "cell_type": "code",
   "execution_count": 9,
   "id": "86941732",
   "metadata": {},
   "outputs": [
    {
     "name": "stdout",
     "output_type": "stream",
     "text": [
      "la puissance est : 8\n"
     ]
    }
   ],
   "source": [
    "X = int(input(\"Entrer X :\"))\n",
    "Y = int(input(\"Entrer Y :\"))\n",
    "puissance = X ** Y\n",
    "print(f\"la puissance est : {puissance}\")"
   ]
  },
  {
   "cell_type": "markdown",
   "id": "2abed66b",
   "metadata": {},
   "source": [
    "## *Exercice 5*"
   ]
  },
  {
   "cell_type": "code",
   "execution_count": null,
   "id": "924258cb",
   "metadata": {},
   "outputs": [
    {
     "name": "stdout",
     "output_type": "stream",
     "text": [
      "la somme est 28.50 , produit est 126.50 , différonce est 17.50 et devesion est 4.18 .\n"
     ]
    }
   ],
   "source": [
    "num1 = float(input(\"entrer nomber 1 :\"))\n",
    "num2 = float(input(\"entrer nomber 2 :\"))\n",
    "som = num1 + num2\n",
    "pro = num1 * num2\n",
    "dif = num1 - num2\n",
    "dev = num1 / num2\n",
    "print(f\"la somme est {som} , produit est {pro:.2f} , différonce est {dif} et devesion est {dev:.2f} .\")"
   ]
  },
  {
   "cell_type": "markdown",
   "id": "b95de290",
   "metadata": {},
   "source": [
    "## *Exercice 6*"
   ]
  },
  {
   "cell_type": "code",
   "execution_count": 12,
   "id": "dec50ff5",
   "metadata": {},
   "outputs": [
    {
     "name": "stdout",
     "output_type": "stream",
     "text": [
      "la somme du notes est 53.0 et la moyenne est : 13.25\n"
     ]
    }
   ],
   "source": [
    "N1 = float(input(\"Entrer Note1 :\"))\n",
    "N2 = float(input(\"Entrer Note2 :\"))\n",
    "N3 = float(input(\"Entrer Note3 :\"))\n",
    "N4 = float(input(\"Entrer Note4 :\"))\n",
    "sum = N1 + N2 + N3 + N4\n",
    "moy = sum / 4\n",
    "print(f\"la somme du notes est {sum} et la moyenne est : {moy:.2f}\")"
   ]
  },
  {
   "cell_type": "markdown",
   "id": "100f3df1",
   "metadata": {},
   "source": [
    "## *Exercice 7*"
   ]
  },
  {
   "cell_type": "code",
   "execution_count": 13,
   "id": "b1f3adc5",
   "metadata": {},
   "outputs": [
    {
     "name": "stdout",
     "output_type": "stream",
     "text": [
      "la volume est 179.59\n"
     ]
    }
   ],
   "source": [
    "from math import pi\n",
    "r = float(input(\"entrer le raton de sphère :\"))\n",
    "V = (4 * pi * (r**3))/3\n",
    "print(f\"la volume est {V:.2f}\")"
   ]
  },
  {
   "cell_type": "markdown",
   "id": "6fc402e2",
   "metadata": {},
   "source": [
    "## *Exercice 8*"
   ]
  },
  {
   "cell_type": "code",
   "execution_count": null,
   "id": "6c3a2c5a",
   "metadata": {},
   "outputs": [
    {
     "name": "stdout",
     "output_type": "stream",
     "text": [
      "A = 3\n",
      "B = 2\n"
     ]
    }
   ],
   "source": [
    "A = int(input(\"Saisir A :\"))\n",
    "B = int(input(\"Saisir B :\"))\n",
    "C = A\n",
    "A = B\n",
    "B = C\n",
    "# autre methode\n",
    "#A,B = B,A \n",
    "print(f\"A = {A}\\nB = {B}\")"
   ]
  },
  {
   "cell_type": "markdown",
   "id": "6af55fda",
   "metadata": {},
   "source": [
    "## *Exercice 9*"
   ]
  },
  {
   "cell_type": "code",
   "execution_count": null,
   "id": "69e35b05",
   "metadata": {},
   "outputs": [
    {
     "name": "stdout",
     "output_type": "stream",
     "text": [
      "3 days, 17:47:03\n"
     ]
    }
   ],
   "source": [
    "from datetime import timedelta\n",
    "T = int(input(\"Entrer temps exprimé en secondes :\"))\n",
    "time = timedelta(seconds=T)\n",
    "print(time)"
   ]
  },
  {
   "cell_type": "markdown",
   "id": "7f1b3d69",
   "metadata": {},
   "source": [
    "## *Exercice 10*"
   ]
  },
  {
   "cell_type": "code",
   "execution_count": 22,
   "id": "bac674ce",
   "metadata": {},
   "outputs": [
    {
     "name": "stdout",
     "output_type": "stream",
     "text": [
      "la distance est 6.40\n"
     ]
    }
   ],
   "source": [
    "from math import sqrt\n",
    "XA = float(input(\"XA :\"))\n",
    "YA = float(input(\"YA :\"))\n",
    "XB = float(input(\"XB :\"))\n",
    "YB = float(input(\"YB :\"))\n",
    "Distance = sqrt(((XA - XB)**2) + ((YA - YB)**2) )\n",
    "print(f\"la distance est {Distance:.2f}\")"
   ]
  },
  {
   "cell_type": "markdown",
   "id": "b6c1199d",
   "metadata": {},
   "source": [
    "## *Exercice 11*"
   ]
  },
  {
   "cell_type": "code",
   "execution_count": null,
   "id": "b4902d33",
   "metadata": {},
   "outputs": [
    {
     "name": "stdout",
     "output_type": "stream",
     "text": [
      "la résistance série est 26.0\n",
      "la résistance parallèle est 0.9565217391304348\n"
     ]
    }
   ],
   "source": [
    "r1 = float(input(\"Saisir la résistance 1 :\"))\n",
    "r2 = float(input(\"Saisir la résistance 2 :\"))\n",
    "r3 = float(input(\"Saisir la résistance 3 :\"))\n",
    "S = r1 +r2 +r3\n",
    "P = (r1 * r2 * r3)/((r1 * r2)+(r1 * r3)+(r2 * r3))\n",
    "print(f\"la résistance série est {S:.2f}\")\n",
    "print(f\"la résistance parallèle est {P:.2f}\")"
   ]
  }
 ],
 "metadata": {
  "kernelspec": {
   "display_name": "base",
   "language": "python",
   "name": "python3"
  },
  "language_info": {
   "codemirror_mode": {
    "name": "ipython",
    "version": 3
   },
   "file_extension": ".py",
   "mimetype": "text/x-python",
   "name": "python",
   "nbconvert_exporter": "python",
   "pygments_lexer": "ipython3",
   "version": "3.13.5"
  }
 },
 "nbformat": 4,
 "nbformat_minor": 5
}
