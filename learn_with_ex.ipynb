{
 "cells": [
  {
   "cell_type": "markdown",
   "id": "35eb1c45-9c6b-4de7-8a4e-757592fb91e9",
   "metadata": {},
   "source": [
    "# **Instructions de base**"
   ]
  },
  {
   "cell_type": "markdown",
   "id": "8798b68f-98a9-4c06-aa8a-529d933341f4",
   "metadata": {},
   "source": [
    "---"
   ]
  },
  {
   "cell_type": "markdown",
   "id": "af2fced7-e20c-4195-95ac-42d3864af858",
   "metadata": {},
   "source": [
    "## *Exercice 1*"
   ]
  },
  {
   "cell_type": "code",
   "execution_count": 14,
   "id": "72965104-ae4b-4b41-9ea4-4af568c7d2f4",
   "metadata": {
    "scrolled": true
   },
   "outputs": [
    {
     "name": "stdin",
     "output_type": "stream",
     "text": [
      "ton nom est : youssef\n",
      "ton age est : 33\n"
     ]
    },
    {
     "name": "stdout",
     "output_type": "stream",
     "text": [
      "Bonjour youssef ,tu as 33 ans et bienvenue à l'université\n"
     ]
    }
   ],
   "source": [
    "nom = input(\"ton nom est :\")\n",
    "age = input(\"ton age est :\")\n",
    "print(f\"Bonjour {nom} ,tu as {age} ans et bienvenue à l'université\")"
   ]
  },
  {
   "cell_type": "markdown",
   "id": "d1be1ebc-a51a-4ba8-87c9-15a5eb78f87c",
   "metadata": {},
   "source": [
    "## *Exercice 2*"
   ]
  },
  {
   "cell_type": "code",
   "execution_count": null,
   "id": "fbabdd30-494c-4eff-94a6-7402c4948a75",
   "metadata": {},
   "outputs": [],
   "source": []
  }
 ],
 "metadata": {
  "kernelspec": {
   "display_name": "Python [conda env:base] *",
   "language": "python",
   "name": "conda-base-py"
  },
  "language_info": {
   "codemirror_mode": {
    "name": "ipython",
    "version": 3
   },
   "file_extension": ".py",
   "mimetype": "text/x-python",
   "name": "python",
   "nbconvert_exporter": "python",
   "pygments_lexer": "ipython3",
   "version": "3.13.5"
  }
 },
 "nbformat": 4,
 "nbformat_minor": 5
}
