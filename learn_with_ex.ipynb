{
 "cells": [
  {
   "cell_type": "markdown",
   "id": "35eb1c45-9c6b-4de7-8a4e-757592fb91e9",
   "metadata": {},
   "source": [
    "# **Instructions de base**"
   ]
  },
  {
   "cell_type": "markdown",
   "id": "8798b68f-98a9-4c06-aa8a-529d933341f4",
   "metadata": {},
   "source": [
    "---"
   ]
  },
  {
   "cell_type": "markdown",
   "id": "af2fced7-e20c-4195-95ac-42d3864af858",
   "metadata": {},
   "source": [
    "## *Exercice 1*"
   ]
  },
  {
   "cell_type": "code",
   "execution_count": 3,
   "id": "72965104-ae4b-4b41-9ea4-4af568c7d2f4",
   "metadata": {
    "scrolled": true
   },
   "outputs": [
    {
     "name": "stdout",
     "output_type": "stream",
     "text": [
      "Bonjour youssef ,tu as 22 ans et bienvenue à l'université\n"
     ]
    }
   ],
   "source": [
    "nom = input(\"ton nom est :\")\n",
    "age = input(\"ton age est :\")\n",
    "print(f\"Bonjour {nom} ,tu as {age} ans et bienvenue à l'université\")"
   ]
  },
  {
   "cell_type": "markdown",
   "id": "d1be1ebc-a51a-4ba8-87c9-15a5eb78f87c",
   "metadata": {},
   "source": [
    "## *Exercice 2*"
   ]
  },
  {
   "cell_type": "code",
   "execution_count": 2,
   "id": "fbabdd30-494c-4eff-94a6-7402c4948a75",
   "metadata": {},
   "outputs": [
    {
     "name": "stdout",
     "output_type": "stream",
     "text": [
      "Age est : 22\n"
     ]
    }
   ],
   "source": [
    "from datetime import datetime\n",
    "anne = int(input(\"donne moi votre annee naissance :\"))\n",
    "age = datetime.now().year - anne\n",
    "print(f\"Age est : {age}\")"
   ]
  },
  {
   "cell_type": "markdown",
   "id": "1e8eb726",
   "metadata": {},
   "source": [
    "## *Exercice 3*"
   ]
  },
  {
   "cell_type": "code",
   "execution_count": 8,
   "id": "c5d0ef5c",
   "metadata": {},
   "outputs": [
    {
     "name": "stdout",
     "output_type": "stream",
     "text": [
      "périmètre est : 74.60 et surface est : 133.20\n"
     ]
    }
   ],
   "source": [
    "longueur = float(input(\"entrer longueur :\"))\n",
    "largeur = float(input(\"entrer largeur :\"))\n",
    "per = (largeur + longueur)*2\n",
    "sur = largeur * longueur\n",
    "print(f\"périmètre est : {per:.2f} et surface est : {sur:.2f}\")"
   ]
  },
  {
   "cell_type": "markdown",
   "id": "2d1e8d2a",
   "metadata": {},
   "source": [
    "## *Exercice 4*"
   ]
  },
  {
   "cell_type": "code",
   "execution_count": 9,
   "id": "86941732",
   "metadata": {},
   "outputs": [
    {
     "name": "stdout",
     "output_type": "stream",
     "text": [
      "la puissance est : 8\n"
     ]
    }
   ],
   "source": [
    "X = int(input(\"Entrer X :\"))\n",
    "Y = int(input(\"Entrer Y :\"))\n",
    "puissance = X ** Y\n",
    "print(f\"la puissance est : {puissance}\")"
   ]
  },
  {
   "cell_type": "markdown",
   "id": "2abed66b",
   "metadata": {},
   "source": [
    "## *Exercice 5*"
   ]
  },
  {
   "cell_type": "code",
   "execution_count": null,
   "id": "924258cb",
   "metadata": {},
   "outputs": [
    {
     "name": "stdout",
     "output_type": "stream",
     "text": [
      "la somme est 28.50 , produit est 126.50 , différonce est 17.50 et devesion est 4.18 .\n"
     ]
    }
   ],
   "source": [
    "num1 = float(input(\"entrer nomber 1 :\"))\n",
    "num2 = float(input(\"entrer nomber 2 :\"))\n",
    "som = num1 + num2\n",
    "pro = num1 * num2\n",
    "dif = num1 - num2\n",
    "dev = num1 / num2\n",
    "print(f\"la somme est {som} , produit est {pro:.2f} , différonce est {dif} et devesion est {dev:.2f} .\")"
   ]
  },
  {
   "cell_type": "markdown",
   "id": "b95de290",
   "metadata": {},
   "source": [
    "## *Exercice 6*"
   ]
  },
  {
   "cell_type": "code",
   "execution_count": 12,
   "id": "dec50ff5",
   "metadata": {},
   "outputs": [
    {
     "name": "stdout",
     "output_type": "stream",
     "text": [
      "la somme du notes est 53.0 et la moyenne est : 13.25\n"
     ]
    }
   ],
   "source": [
    "N1 = float(input(\"Entrer Note1 :\"))\n",
    "N2 = float(input(\"Entrer Note2 :\"))\n",
    "N3 = float(input(\"Entrer Note3 :\"))\n",
    "N4 = float(input(\"Entrer Note4 :\"))\n",
    "sum = N1 + N2 + N3 + N4\n",
    "moy = sum / 4\n",
    "print(f\"la somme du notes est {sum} et la moyenne est : {moy:.2f}\")"
   ]
  },
  {
   "cell_type": "markdown",
   "id": "100f3df1",
   "metadata": {},
   "source": [
    "## *Exercice 7*"
   ]
  },
  {
   "cell_type": "code",
   "execution_count": 13,
   "id": "b1f3adc5",
   "metadata": {},
   "outputs": [
    {
     "name": "stdout",
     "output_type": "stream",
     "text": [
      "la volume est 179.59\n"
     ]
    }
   ],
   "source": [
    "from math import pi\n",
    "r = float(input(\"entrer le raton de sphère :\"))\n",
    "V = (4 * pi * (r**3))/3\n",
    "print(f\"la volume est {V:.2f}\")"
   ]
  },
  {
   "cell_type": "markdown",
   "id": "6fc402e2",
   "metadata": {},
   "source": [
    "## *Exercice 8*"
   ]
  },
  {
   "cell_type": "code",
   "execution_count": null,
   "id": "6c3a2c5a",
   "metadata": {},
   "outputs": [
    {
     "name": "stdout",
     "output_type": "stream",
     "text": [
      "A = 3\n",
      "B = 2\n"
     ]
    }
   ],
   "source": [
    "A = int(input(\"Saisir A :\"))\n",
    "B = int(input(\"Saisir B :\"))\n",
    "C = A\n",
    "A = B\n",
    "B = C\n",
    "# autre methode\n",
    "#A,B = B,A \n",
    "print(f\"A = {A}\\nB = {B}\")"
   ]
  },
  {
   "cell_type": "markdown",
   "id": "6af55fda",
   "metadata": {},
   "source": [
    "## *Exercice 9*"
   ]
  },
  {
   "cell_type": "code",
   "execution_count": null,
   "id": "69e35b05",
   "metadata": {},
   "outputs": [
    {
     "name": "stdout",
     "output_type": "stream",
     "text": [
      "3 days, 17:47:03\n"
     ]
    }
   ],
   "source": [
    "from datetime import timedelta\n",
    "T = int(input(\"Entrer temps exprimé en secondes :\"))\n",
    "time = timedelta(seconds=T)\n",
    "print(time)"
   ]
  },
  {
   "cell_type": "markdown",
   "id": "7f1b3d69",
   "metadata": {},
   "source": [
    "## *Exercice 10*"
   ]
  },
  {
   "cell_type": "code",
   "execution_count": 22,
   "id": "bac674ce",
   "metadata": {},
   "outputs": [
    {
     "name": "stdout",
     "output_type": "stream",
     "text": [
      "la distance est 6.40\n"
     ]
    }
   ],
   "source": [
    "from math import sqrt\n",
    "XA = float(input(\"XA :\"))\n",
    "YA = float(input(\"YA :\"))\n",
    "XB = float(input(\"XB :\"))\n",
    "YB = float(input(\"YB :\"))\n",
    "Distance = sqrt(((XA - XB)**2) + ((YA - YB)**2) )\n",
    "print(f\"la distance est {Distance:.2f}\")"
   ]
  },
  {
   "cell_type": "markdown",
   "id": "b6c1199d",
   "metadata": {},
   "source": [
    "## *Exercice 11*"
   ]
  },
  {
   "cell_type": "code",
   "execution_count": null,
   "id": "b4902d33",
   "metadata": {},
   "outputs": [
    {
     "name": "stdout",
     "output_type": "stream",
     "text": [
      "la résistance série est 26.0\n",
      "la résistance parallèle est 0.9565217391304348\n"
     ]
    }
   ],
   "source": [
    "r1 = float(input(\"Saisir la résistance 1 :\"))\n",
    "r2 = float(input(\"Saisir la résistance 2 :\"))\n",
    "r3 = float(input(\"Saisir la résistance 3 :\"))\n",
    "S = r1 +r2 +r3\n",
    "P = (r1 * r2 * r3)/((r1 * r2)+(r1 * r3)+(r2 * r3))\n",
    "print(f\"la résistance série est {S:.2f}\")\n",
    "print(f\"la résistance parallèle est {P:.2f}\")"
   ]
  },
  {
   "cell_type": "markdown",
   "id": "80490249",
   "metadata": {},
   "source": [
    "# **Structures conditionnelles**"
   ]
  },
  {
   "cell_type": "markdown",
   "id": "9234b2fd",
   "metadata": {},
   "source": [
    "---"
   ]
  },
  {
   "cell_type": "markdown",
   "id": "a52d4b8f",
   "metadata": {},
   "source": [
    "## *Exercice 12*"
   ]
  },
  {
   "cell_type": "code",
   "execution_count": null,
   "id": "27ae0668",
   "metadata": {},
   "outputs": [
    {
     "name": "stdout",
     "output_type": "stream",
     "text": [
      "la signe différents\n"
     ]
    }
   ],
   "source": [
    "N1 = int(input(\"Entrer le nombre 1 :\"))\n",
    "N2 = int(input(\"Entrer le nombre 2 :\"))\n",
    "if N1 * N2 > 0:\n",
    "    print(\"dans la méme signe\")\n",
    "else:\n",
    "    print(\"la signe différents\")"
   ]
  },
  {
   "cell_type": "markdown",
   "id": "c2486d77",
   "metadata": {},
   "source": [
    "## *Exercice 13*"
   ]
  },
  {
   "cell_type": "code",
   "execution_count": 4,
   "id": "393486ad",
   "metadata": {},
   "outputs": [
    {
     "name": "stdout",
     "output_type": "stream",
     "text": [
      "N1 = 5\n",
      "N2 = -14\n"
     ]
    }
   ],
   "source": [
    "N1 = int(input(\"Entrer le nombre 1 :\"))\n",
    "N2 = int(input(\"Entrer le nombre 2 :\"))\n",
    "if N1 * N2 > 0:\n",
    "    N1 , N2 = N2 , N1\n",
    "    print(f\"N1 = {N1}\\nN2 = {N2}\")\n",
    "else:\n",
    "    N1 , N2 = N1 + N2 , N1 * N2\n",
    "    print(f\"N1 = {N1}\\nN2 = {N2}\")"
   ]
  },
  {
   "cell_type": "markdown",
   "id": "10a06bfb",
   "metadata": {},
   "source": [
    "## *Exercice 14*"
   ]
  },
  {
   "cell_type": "code",
   "execution_count": null,
   "id": "2cfe2426",
   "metadata": {},
   "outputs": [
    {
     "name": "stdout",
     "output_type": "stream",
     "text": [
      "la facture est 8.6\n"
     ]
    }
   ],
   "source": [
    "NP= int(input(\"donner le nombre de photocopes :\"))\n",
    "if NP <= 10:\n",
    "    M = NP * 0.3\n",
    "elif NP <= 30:\n",
    "    M = (10 * 0.3) + ((NP -10)*0.25)\n",
    "else :\n",
    "    M = (10 * 0.3) + (20 * 0.25) + ((NP -30)*0.2)\n",
    "print(f\"le montant de facture est {M} DH\")"
   ]
  },
  {
   "cell_type": "markdown",
   "id": "4940eb19",
   "metadata": {},
   "source": [
    "## *Exercice 15*"
   ]
  },
  {
   "cell_type": "code",
   "execution_count": null,
   "id": "ab84352e",
   "metadata": {},
   "outputs": [
    {
     "name": "stdout",
     "output_type": "stream",
     "text": [
      "Pupille\n"
     ]
    }
   ],
   "source": [
    "Age = int(input(\"donner l'age :\"))\n",
    "if Age in [6 ,7]:\n",
    "    print(\"Poussin\")\n",
    "elif Age in [8,9]:\n",
    "    print(\"Pupille\")\n",
    "elif Age in [10,11]:\n",
    "    print(\"Minime\")\n",
    "elif Age >= 12:\n",
    "    print(\"Cadet\")\n",
    "else:\n",
    "    print(\"Cardinalité n'est pas exsite\")"
   ]
  },
  {
   "cell_type": "markdown",
   "id": "d30dd427",
   "metadata": {},
   "source": [
    "## *Exercice 16*"
   ]
  },
  {
   "cell_type": "code",
   "execution_count": 7,
   "id": "e6f894eb",
   "metadata": {},
   "outputs": [
    {
     "name": "stdout",
     "output_type": "stream",
     "text": [
      "la moyenne est : 15.00 et la mention est Bien\n"
     ]
    }
   ],
   "source": [
    "N1 = float(input(\"Entrer Note1 :\"))\n",
    "N2 = float(input(\"Entrer Note2 :\"))\n",
    "N3 = float(input(\"Entrer Note3 :\"))\n",
    "sum = N1 + N2 + N3\n",
    "moy = sum / 3\n",
    "if moy >= 16:\n",
    "    mention = \"Trés Bien\"\n",
    "elif moy < 16 and moy >= 14:\n",
    "    mention = \"Bien\"\n",
    "elif moy < 14 and moy >= 12:\n",
    "    mention = \"Assez Bien\"\n",
    "elif moy < 12 and moy >= 10:\n",
    "    mention = \"Passable\"\n",
    "else:\n",
    "    mention =\"Insuffisant\"\n",
    "\n",
    "print(f\"la moyenne est : {moy:.2f} et la mention est {mention}\")    "
   ]
  },
  {
   "cell_type": "markdown",
   "id": "16a12309",
   "metadata": {},
   "source": [
    "## *Exercice 17*"
   ]
  },
  {
   "cell_type": "code",
   "execution_count": null,
   "id": "93efde89",
   "metadata": {},
   "outputs": [
    {
     "name": "stdout",
     "output_type": "stream",
     "text": [
      "entrer a, b , c pour cette equation ax² + bx + c\n",
      "les solutions x1  = -2.82 x2 = -0.18\n"
     ]
    }
   ],
   "source": [
    "from math import sqrt\n",
    "print(\"entrer a, b , c pour cette equation ax² + bx + c\")\n",
    "a = float(input(\"a = \"))\n",
    "b = float(input(\"b = \"))\n",
    "c = float(input(\"c = \"))\n",
    "DL = (b**2) - (4*a*c)\n",
    "if DL > 0:\n",
    "    print(f\"les solutions x1  = {((-b - sqrt(DL))/(2*a)):.2f} x2 = {((-b + sqrt(DL))/(2*a)):.2f}\")\n",
    "elif DL == 0:\n",
    "    print(f\"la solution x  = {((-b)/(2*a)):.2f}\")\n",
    "else :\n",
    "    print(\"Pas des solution\")"
   ]
  },
  {
   "cell_type": "markdown",
   "id": "2b959af9",
   "metadata": {},
   "source": [
    "## *Exercice 18*"
   ]
  },
  {
   "cell_type": "code",
   "execution_count": null,
   "id": "baefbc89",
   "metadata": {},
   "outputs": [
    {
     "name": "stdout",
     "output_type": "stream",
     "text": [
      "tu es imposable\n"
     ]
    }
   ],
   "source": [
    "Sexe = input(\"donner le Sexe M ou F :\").upper()\n",
    "Age = int(input(\"donner l'age :\"))\n",
    "if (Sexe == \"M\" and Age > 20) or (Sexe == \"F\" and Age > 18 and Age < 35):\n",
    "    print(\"tu es imposable\")\n",
    "else:\n",
    "    print(\"Pas imposable\")"
   ]
  },
  {
   "cell_type": "markdown",
   "id": "8860e114",
   "metadata": {},
   "source": [
    "## *Exercice 19*"
   ]
  },
  {
   "cell_type": "code",
   "execution_count": null,
   "id": "11f7acd3",
   "metadata": {},
   "outputs": [
    {
     "name": "stdout",
     "output_type": "stream",
     "text": [
      "TTC = 34.24\n"
     ]
    }
   ],
   "source": [
    "C = input(\"donner le catigore de produit A, B, C:\")\n",
    "P = float(input(\"donner prix hors taxe :\"))\n",
    "if C == \"A\":\n",
    "    TVA = P * (7/100)\n",
    "elif C == \"B\":\n",
    "    TVA = P * (20/100)\n",
    "elif C == \"B\":\n",
    "    TVA = P * (25/100)\n",
    "print(f\"TTC = {(P + TVA):.2f}\")"
   ]
  },
  {
   "cell_type": "markdown",
   "id": "25f3e10b",
   "metadata": {},
   "source": [
    "## *Exercice 20*"
   ]
  },
  {
   "cell_type": "code",
   "execution_count": null,
   "id": "7db10819",
   "metadata": {},
   "outputs": [
    {
     "name": "stdout",
     "output_type": "stream",
     "text": [
      "N1 + N2 = 44\n"
     ]
    }
   ],
   "source": [
    "O = input(\"donner le operation + , - , * , /:\")\n",
    "N1 = float(input(\"donner le nombre 1 :\"))\n",
    "N2 = float(input(\"donner le nombre 2 :\"))\n",
    "if O == \"+\":\n",
    "    print(f\"N1 + N2 = {N1 + N2}\")\n",
    "elif O == \"-\":\n",
    "    print(f\"N1 - N2 = {N1 - N2}\")\n",
    "elif O == \"*\":\n",
    "    print(f\"N1 * N2 = {(N1 * N2):.2f}\")\n",
    "elif O == \"/\":\n",
    "    print(f\"N1 / N2 = {(N1 / N2):.2f}\")\n",
    "else :\n",
    "    print(\"l'operator n' est pas exsite\")"
   ]
  },
  {
   "cell_type": "markdown",
   "id": "ba5e52c6",
   "metadata": {},
   "source": [
    "## *Exercice 21*"
   ]
  },
  {
   "cell_type": "code",
   "execution_count": 8,
   "id": "dbe337a2",
   "metadata": {},
   "outputs": [
    {
     "name": "stdout",
     "output_type": "stream",
     "text": [
      "le personnage va à droit\n"
     ]
    }
   ],
   "source": [
    "N = int(input(\"saiser un nombre :\"))\n",
    "if N == 2:\n",
    "    print(\"le personnage va en bas\")\n",
    "elif N == 8:\n",
    "    print(\"le personnage va en haut\")\n",
    "elif N == 4:\n",
    "    print(\"le personnage va à gouche\")\n",
    "elif N == 6:\n",
    "    print(\"le personnage va à droit\")\n",
    "else:\n",
    "    print(\"nombre incorrict\")"
   ]
  },
  {
   "cell_type": "markdown",
   "id": "b97b6e96",
   "metadata": {},
   "source": [
    "## *Exercice 22*"
   ]
  },
  {
   "cell_type": "code",
   "execution_count": 10,
   "id": "662f0fa1",
   "metadata": {},
   "outputs": [
    {
     "name": "stdout",
     "output_type": "stream",
     "text": [
      "le nombre paire\n"
     ]
    }
   ],
   "source": [
    "N = int(input(\"saisir le nombre :\"))\n",
    "if N % 2:\n",
    "    print(\"le nombre impaire\")\n",
    "else :\n",
    "    print(\"le nombre paire\")"
   ]
  },
  {
   "cell_type": "markdown",
   "id": "8ca6c0ba",
   "metadata": {},
   "source": [
    "## *Exercice 23*"
   ]
  },
  {
   "cell_type": "code",
   "execution_count": 14,
   "id": "d242b20a",
   "metadata": {},
   "outputs": [
    {
     "name": "stdout",
     "output_type": "stream",
     "text": [
      "2020 est une année bissextile\n"
     ]
    }
   ],
   "source": [
    "annee = int(input(\"Veuillez saisir une année :\"))\n",
    "if ((annee % 4 == 0) and (annee % 100 != 0)) or (annee % 400 == 0):\n",
    "    print(f\"{annee} est une année bissextile\")\n",
    "else :\n",
    "    print(f\"{annee} n'est pas une année bissextile\")"
   ]
  },
  {
   "cell_type": "markdown",
   "id": "ddea1c4e",
   "metadata": {},
   "source": [
    "## *Exercice 24*"
   ]
  },
  {
   "cell_type": "code",
   "execution_count": 11,
   "id": "036703e7",
   "metadata": {},
   "outputs": [
    {
     "name": "stdout",
     "output_type": "stream",
     "text": [
      "@ est un caractère spéciale\n"
     ]
    }
   ],
   "source": [
    "c = input(\"Veuillez saisir un caractère :\")\n",
    "if (\"A\"<= c and \"Z\" >= c) or (\"a\"<= c and \"z\" >= c):\n",
    "    print(f\"{c} est un alphabet\")\n",
    "elif (\"0\"<= c and c <= \"9\"):\n",
    "    print(f\"{c} est un nombre\")\n",
    "else :\n",
    "    print(f\"{c} est un caractère spéciale\")"
   ]
  }
 ],
 "metadata": {
  "kernelspec": {
   "display_name": "base",
   "language": "python",
   "name": "python3"
  },
  "language_info": {
   "codemirror_mode": {
    "name": "ipython",
    "version": 3
   },
   "file_extension": ".py",
   "mimetype": "text/x-python",
   "name": "python",
   "nbconvert_exporter": "python",
   "pygments_lexer": "ipython3",
   "version": "3.13.5"
  }
 },
 "nbformat": 4,
 "nbformat_minor": 5
}
